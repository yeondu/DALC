{
 "cells": [
  {
   "cell_type": "markdown",
   "metadata": {
    "id": "T9-saXPT6f_v"
   },
   "source": [
    "# Regression Example_boston house price\n",
    "\n",
    "- 보스턴 주택 가격\n",
    ": 1978년에 발표된 데이터로 미국 보스턴 지역의 주택 가격에 영향을 미치는 요소들을 정리함\n",
    "\n",
    "```\n",
    "x\n",
    "506 행 13 열 \n",
    "CRIM     per capita crime rate by town\n",
    "ZN       proportion of residential land zoned for lots over 25,000 sq.ft.\n",
    "INDUS    proportion of non-retail business acres per town\n",
    "CHAS     Charles River dummy variable (= 1 if tract bounds river; 0 otherwise)\n",
    "NOX      nitric oxides concentration (parts per 10 million)\n",
    "RM       average number of rooms per dwelling\n",
    "AGE      proportion of owner-occupied units built prior to 1940\n",
    "DIS      weighted distances to five Boston employment centres\n",
    "RAD      index of accessibility to radial highways\n",
    "TAX      full-value property-tax rate per $10,000\n",
    "PTRATIO  pupil-teacher ratio by town\n",
    "B        1000(Bk - 0.63)^2 where Bk is the proportion of blacks by town\n",
    "LSTAT    % lower status of the population\n",
    "\n",
    "y\n",
    "506 행 1 열\n",
    "target (MEDV)     Median value of owner-occupied homes in $1000's\n",
    "```\n",
    "\n",
    "![](https://wikidocs.net/images/page/49966/1.png)"
   ]
  },
  {
   "cell_type": "markdown",
   "metadata": {
    "id": "5MFrb7CL7qT7"
   },
   "source": [
    "## 데이터 탐색"
   ]
  },
  {
   "cell_type": "code",
   "execution_count": 2,
   "metadata": {
    "colab": {
     "base_uri": "https://localhost:8080/"
    },
    "id": "72b_dVx35ax7",
    "outputId": "ce6ac980-e0b5-4456-cb78-10447ae26bed"
   },
   "outputs": [
    {
     "name": "stdout",
     "output_type": "stream",
     "text": [
      "(506, 13)\n",
      "(506,)\n"
     ]
    }
   ],
   "source": [
    "# 데이터 구조의 행열 개수만 확인하기\n",
    "from sklearn.datasets import load_boston\n",
    "\n",
    "X, y = load_boston(return_X_y=True)\n",
    "print(X.shape)\n",
    "print(y.shape)"
   ]
  },
  {
   "cell_type": "code",
   "execution_count": 3,
   "metadata": {
    "colab": {
     "base_uri": "https://localhost:8080/"
    },
    "id": "p65iSx4N6Q-C",
    "outputId": "85d99282-d685-4b46-f9a4-7c237c6c2ce1"
   },
   "outputs": [
    {
     "name": "stdout",
     "output_type": "stream",
     "text": [
      "Boston House Prices dataset\n",
      "===========================\n",
      "\n",
      "Notes\n",
      "------\n",
      "Data Set Characteristics:  \n",
      "\n",
      "    :Number of Instances: 506 \n",
      "\n",
      "    :Number of Attributes: 13 numeric/categorical predictive\n",
      "    \n",
      "    :Median Value (attribute 14) is usually the target\n",
      "\n",
      "    :Attribute Information (in order):\n",
      "        - CRIM     per capita crime rate by town\n",
      "        - ZN       proportion of residential land zoned for lots over 25,000 sq.ft.\n",
      "        - INDUS    proportion of non-retail business acres per town\n",
      "        - CHAS     Charles River dummy variable (= 1 if tract bounds river; 0 otherwise)\n",
      "        - NOX      nitric oxides concentration (parts per 10 million)\n",
      "        - RM       average number of rooms per dwelling\n",
      "        - AGE      proportion of owner-occupied units built prior to 1940\n",
      "        - DIS      weighted distances to five Boston employment centres\n",
      "        - RAD      index of accessibility to radial highways\n",
      "        - TAX      full-value property-tax rate per $10,000\n",
      "        - PTRATIO  pupil-teacher ratio by town\n",
      "        - B        1000(Bk - 0.63)^2 where Bk is the proportion of blacks by town\n",
      "        - LSTAT    % lower status of the population\n",
      "        - MEDV     Median value of owner-occupied homes in $1000's\n",
      "\n",
      "    :Missing Attribute Values: None\n",
      "\n",
      "    :Creator: Harrison, D. and Rubinfeld, D.L.\n",
      "\n",
      "This is a copy of UCI ML housing dataset.\n",
      "http://archive.ics.uci.edu/ml/datasets/Housing\n",
      "\n",
      "\n",
      "This dataset was taken from the StatLib library which is maintained at Carnegie Mellon University.\n",
      "\n",
      "The Boston house-price data of Harrison, D. and Rubinfeld, D.L. 'Hedonic\n",
      "prices and the demand for clean air', J. Environ. Economics & Management,\n",
      "vol.5, 81-102, 1978.   Used in Belsley, Kuh & Welsch, 'Regression diagnostics\n",
      "...', Wiley, 1980.   N.B. Various transformations are used in the table on\n",
      "pages 244-261 of the latter.\n",
      "\n",
      "The Boston house-price data has been used in many machine learning papers that address regression\n",
      "problems.   \n",
      "     \n",
      "**References**\n",
      "\n",
      "   - Belsley, Kuh & Welsch, 'Regression diagnostics: Identifying Influential Data and Sources of Collinearity', Wiley, 1980. 244-261.\n",
      "   - Quinlan,R. (1993). Combining Instance-Based and Model-Based Learning. In Proceedings on the Tenth International Conference of Machine Learning, 236-243, University of Massachusetts, Amherst. Morgan Kaufmann.\n",
      "   - many more! (see http://archive.ics.uci.edu/ml/datasets/Housing)\n",
      "\n"
     ]
    }
   ],
   "source": [
    "import numpy as np\n",
    "import pandas as pd\n",
    "from sklearn import datasets\n",
    "\n",
    "from sklearn import model_selection\n",
    "from sklearn import metrics\n",
    "\n",
    "dataset = datasets.load_boston()\n",
    "print(dataset.DESCR)"
   ]
  },
  {
   "cell_type": "code",
   "execution_count": 4,
   "metadata": {
    "colab": {
     "base_uri": "https://localhost:8080/"
    },
    "id": "9BIgxyV88PGB",
    "outputId": "a66cfafc-d87a-49b3-f209-b27746350f84"
   },
   "outputs": [
    {
     "name": "stdout",
     "output_type": "stream",
     "text": [
      "      CRIM    ZN  INDUS  CHAS    NOX     RM   AGE     DIS  RAD    TAX  \\\n",
      "0  0.00632  18.0   2.31   0.0  0.538  6.575  65.2  4.0900  1.0  296.0   \n",
      "1  0.02731   0.0   7.07   0.0  0.469  6.421  78.9  4.9671  2.0  242.0   \n",
      "2  0.02729   0.0   7.07   0.0  0.469  7.185  61.1  4.9671  2.0  242.0   \n",
      "3  0.03237   0.0   2.18   0.0  0.458  6.998  45.8  6.0622  3.0  222.0   \n",
      "4  0.06905   0.0   2.18   0.0  0.458  7.147  54.2  6.0622  3.0  222.0   \n",
      "\n",
      "   PTRATIO       B  LSTAT  target  \n",
      "0     15.3  396.90   4.98    24.0  \n",
      "1     17.8  396.90   9.14    21.6  \n",
      "2     17.8  392.83   4.03    34.7  \n",
      "3     18.7  394.63   2.94    33.4  \n",
      "4     18.7  396.90   5.33    36.2  \n"
     ]
    }
   ],
   "source": [
    "df = pd.DataFrame(dataset.data, columns=dataset.feature_names)\n",
    "df['target'] = dataset.target\n",
    "print(df.head())"
   ]
  },
  {
   "cell_type": "code",
   "execution_count": 5,
   "metadata": {
    "colab": {
     "base_uri": "https://localhost:8080/"
    },
    "id": "xTHclz848U4i",
    "outputId": "2b240970-d0a7-4eaf-f893-c309dbcd0c84"
   },
   "outputs": [
    {
     "name": "stdout",
     "output_type": "stream",
     "text": [
      "        CRIM   ZN  INDUS  CHAS    NOX     RM   AGE     DIS  RAD    TAX  \\\n",
      "501  0.06263  0.0  11.93   0.0  0.573  6.593  69.1  2.4786  1.0  273.0   \n",
      "502  0.04527  0.0  11.93   0.0  0.573  6.120  76.7  2.2875  1.0  273.0   \n",
      "503  0.06076  0.0  11.93   0.0  0.573  6.976  91.0  2.1675  1.0  273.0   \n",
      "504  0.10959  0.0  11.93   0.0  0.573  6.794  89.3  2.3889  1.0  273.0   \n",
      "505  0.04741  0.0  11.93   0.0  0.573  6.030  80.8  2.5050  1.0  273.0   \n",
      "\n",
      "     PTRATIO       B  LSTAT  target  \n",
      "501     21.0  391.99   9.67    22.4  \n",
      "502     21.0  396.90   9.08    20.6  \n",
      "503     21.0  396.90   5.64    23.9  \n",
      "504     21.0  393.45   6.48    22.0  \n",
      "505     21.0  396.90   7.88    11.9  \n"
     ]
    }
   ],
   "source": [
    "print(df.tail())"
   ]
  },
  {
   "cell_type": "code",
   "execution_count": 6,
   "metadata": {
    "colab": {
     "base_uri": "https://localhost:8080/"
    },
    "id": "EcZtPsig8WsN",
    "outputId": "37f01c63-ceee-4a6f-b93f-aaad57725d32"
   },
   "outputs": [
    {
     "name": "stdout",
     "output_type": "stream",
     "text": [
      "(506, 14)\n"
     ]
    }
   ],
   "source": [
    "print(df.shape) "
   ]
  },
  {
   "cell_type": "code",
   "execution_count": 7,
   "metadata": {
    "colab": {
     "base_uri": "https://localhost:8080/"
    },
    "id": "aru1E0wW8a52",
    "outputId": "b2a25a2c-40ef-4d58-9db9-cb6755a4e837"
   },
   "outputs": [
    {
     "name": "stdout",
     "output_type": "stream",
     "text": [
      "             CRIM          ZN       INDUS        CHAS         NOX          RM  \\\n",
      "count  506.000000  506.000000  506.000000  506.000000  506.000000  506.000000   \n",
      "mean     3.593761   11.363636   11.136779    0.069170    0.554695    6.284634   \n",
      "std      8.596783   23.322453    6.860353    0.253994    0.115878    0.702617   \n",
      "min      0.006320    0.000000    0.460000    0.000000    0.385000    3.561000   \n",
      "25%      0.082045    0.000000    5.190000    0.000000    0.449000    5.885500   \n",
      "50%      0.256510    0.000000    9.690000    0.000000    0.538000    6.208500   \n",
      "75%      3.647423   12.500000   18.100000    0.000000    0.624000    6.623500   \n",
      "max     88.976200  100.000000   27.740000    1.000000    0.871000    8.780000   \n",
      "\n",
      "              AGE         DIS         RAD         TAX     PTRATIO           B  \\\n",
      "count  506.000000  506.000000  506.000000  506.000000  506.000000  506.000000   \n",
      "mean    68.574901    3.795043    9.549407  408.237154   18.455534  356.674032   \n",
      "std     28.148861    2.105710    8.707259  168.537116    2.164946   91.294864   \n",
      "min      2.900000    1.129600    1.000000  187.000000   12.600000    0.320000   \n",
      "25%     45.025000    2.100175    4.000000  279.000000   17.400000  375.377500   \n",
      "50%     77.500000    3.207450    5.000000  330.000000   19.050000  391.440000   \n",
      "75%     94.075000    5.188425   24.000000  666.000000   20.200000  396.225000   \n",
      "max    100.000000   12.126500   24.000000  711.000000   22.000000  396.900000   \n",
      "\n",
      "            LSTAT      target  \n",
      "count  506.000000  506.000000  \n",
      "mean    12.653063   22.532806  \n",
      "std      7.141062    9.197104  \n",
      "min      1.730000    5.000000  \n",
      "25%      6.950000   17.025000  \n",
      "50%     11.360000   21.200000  \n",
      "75%     16.955000   25.000000  \n",
      "max     37.970000   50.000000  \n"
     ]
    }
   ],
   "source": [
    "print(df.describe())"
   ]
  },
  {
   "cell_type": "code",
   "execution_count": 8,
   "metadata": {
    "colab": {
     "base_uri": "https://localhost:8080/"
    },
    "id": "QRU-0m248b2M",
    "outputId": "631394e4-2eb7-4e4e-f4fa-6c0c50d42a95"
   },
   "outputs": [
    {
     "name": "stdout",
     "output_type": "stream",
     "text": [
      "50.0    16\n",
      "25.0     8\n",
      "23.1     7\n",
      "21.7     7\n",
      "22.0     7\n",
      "20.6     6\n",
      "19.4     6\n",
      "20.1     5\n",
      "19.6     5\n",
      "19.3     5\n",
      "15.6     5\n",
      "21.4     5\n",
      "13.8     5\n",
      "21.2     5\n",
      "20.0     5\n",
      "17.8     5\n",
      "23.9     5\n",
      "22.6     5\n",
      "22.2     5\n",
      "24.4     4\n",
      "23.2     4\n",
      "23.8     4\n",
      "19.1     4\n",
      "20.3     4\n",
      "13.4     4\n",
      "19.9     4\n",
      "27.5     4\n",
      "22.8     4\n",
      "22.9     4\n",
      "18.9     4\n",
      "        ..\n",
      "12.3     1\n",
      "37.6     1\n",
      "29.4     1\n",
      "12.6     1\n",
      "22.1     1\n",
      "31.1     1\n",
      "48.3     1\n",
      "26.2     1\n",
      "11.0     1\n",
      "9.5      1\n",
      "12.0     1\n",
      "17.7     1\n",
      "44.8     1\n",
      "35.1     1\n",
      "32.4     1\n",
      "42.3     1\n",
      "28.2     1\n",
      "31.2     1\n",
      "33.3     1\n",
      "37.2     1\n",
      "28.6     1\n",
      "15.1     1\n",
      "17.3     1\n",
      "6.3      1\n",
      "39.8     1\n",
      "12.8     1\n",
      "29.9     1\n",
      "9.6      1\n",
      "36.1     1\n",
      "13.0     1\n",
      "Name: target, Length: 229, dtype: int64\n"
     ]
    }
   ],
   "source": [
    "print(df.iloc[:,-1].value_counts())"
   ]
  },
  {
   "cell_type": "code",
   "execution_count": 9,
   "metadata": {
    "id": "ALKosp6X8dWK"
   },
   "outputs": [],
   "source": [
    "x_data = dataset.data\n",
    "y_data = dataset.target"
   ]
  },
  {
   "cell_type": "markdown",
   "metadata": {
    "id": "v71gm_5qRp6_"
   },
   "source": [
    "## 일반 선형 회귀 적용"
   ]
  },
  {
   "cell_type": "code",
   "execution_count": 10,
   "metadata": {
    "colab": {
     "base_uri": "https://localhost:8080/"
    },
    "id": "f5JoAiHP8r6e",
    "outputId": "41c3036f-2ab7-4719-de3d-1d541a14233f"
   },
   "outputs": [
    {
     "name": "stdout",
     "output_type": "stream",
     "text": [
      "0.7394038681757082\n",
      "0.7306775403598984\n"
     ]
    }
   ],
   "source": [
    "from sklearn.linear_model import LinearRegression\n",
    "x_train, x_test, y_train, y_test = model_selection.train_test_split(x_data, y_data, test_size=0.3)\n",
    "\n",
    "estimator = LinearRegression()\n",
    "estimator.fit(x_train, y_train)\n",
    "\n",
    "y_predict = estimator.predict(x_train) \n",
    "score = metrics.r2_score(y_train, y_predict)\n",
    "print(score)\n",
    "\n",
    "y_predict = estimator.predict(x_test) \n",
    "score = metrics.r2_score(y_test, y_predict)\n",
    "print(score) "
   ]
  },
  {
   "cell_type": "markdown",
   "metadata": {
    "id": "jAqLNWAGSqT-"
   },
   "source": [
    "## Lasso Regression 적용 "
   ]
  },
  {
   "cell_type": "code",
   "execution_count": 16,
   "metadata": {
    "id": "eQxj7EzkTX1w"
   },
   "outputs": [
    {
     "name": "stdout",
     "output_type": "stream",
     "text": [
      "0.6804567343027756\n",
      "0.7248349899196618\n"
     ]
    }
   ],
   "source": [
    "from sklearn.linear_model import Lasso\n",
    "lasso = Lasso()\n",
    "lasso.fit(x_train, y_train)\n",
    "\n",
    "y_predict = lasso.predict(x_train)\n",
    "score = metrics.r2_score(y_train, y_predict)\n",
    "print(score)\n",
    "\n",
    "y_predict = ridge.predict(x_test)\n",
    "score = metrics.r2_score(y_test, y_predict)\n",
    "print(score)"
   ]
  },
  {
   "cell_type": "markdown",
   "metadata": {
    "id": "dfSa4mnqTYbP"
   },
   "source": [
    "## Ridge Regression 적용  "
   ]
  },
  {
   "cell_type": "code",
   "execution_count": 15,
   "metadata": {
    "id": "Zqd9fySqTdd3"
   },
   "outputs": [
    {
     "name": "stdout",
     "output_type": "stream",
     "text": [
      "0.7372051816132028\n",
      "0.7248349899196618\n"
     ]
    }
   ],
   "source": [
    "from sklearn.linear_model import Ridge\n",
    "ridge = Ridge()\n",
    "ridge.fit(x_train, y_train)\n",
    "\n",
    "y_predict = ridge.predict(x_train)\n",
    "score = metrics.r2_score(y_train, y_predict)\n",
    "print(score)\n",
    "\n",
    "y_predict = ridge.predict(x_test)\n",
    "score = metrics.r2_score(y_test, y_predict)\n",
    "print(score)"
   ]
  },
  {
   "cell_type": "markdown",
   "metadata": {
    "id": "y5IyhJS8TdvJ"
   },
   "source": [
    "## Elastic​ Regression 적용 "
   ]
  },
  {
   "cell_type": "code",
   "execution_count": 18,
   "metadata": {},
   "outputs": [
    {
     "name": "stdout",
     "output_type": "stream",
     "text": [
      "0.734485063343681\n",
      "0.7200650135335851\n"
     ]
    }
   ],
   "source": [
    "from sklearn.linear_model import ElasticNet\n",
    "alpha = 0.01\n",
    "ratios = 0.2\n",
    "elasticnet = ElasticNet(alpha = alpha, l1_ratio = ratios)\n",
    "elasticnet.fit(x_train, y_train)\n",
    "\n",
    "y_predict = elasticnet.predict(x_train)\n",
    "score = metrics.r2_score(y_train, y_predict)\n",
    "print(score)\n",
    "\n",
    "y_predict = elasticnet.predict(x_test)\n",
    "score = metrics.r2_score(y_test, y_predict)\n",
    "print(score)"
   ]
  },
  {
   "cell_type": "markdown",
   "metadata": {
    "id": "M8Da2DT86_my"
   },
   "source": [
    "# pdf에 있는 코드 예시"
   ]
  },
  {
   "cell_type": "code",
   "execution_count": null,
   "metadata": {
    "colab": {
     "base_uri": "https://localhost:8080/"
    },
    "id": "UURVlgoBDmDZ",
    "outputId": "7ed74da1-53aa-4035-df35-c6b59ebbaa34"
   },
   "outputs": [
    {
     "name": "stdout",
     "output_type": "stream",
     "text": [
      "들어 있는 key들 dict_keys(['data', 'target', 'target_names', 'DESCR', 'feature_names', 'filename'])\n",
      "data type <class 'numpy.ndarray'>\n",
      "target 값 [0 0 0 0 0 0 0 0 0 0 0 0 0 0 0 0 0 0 0 0 0 0 0 0 0 0 0 0 0 0 0 0 0 0 0 0 0\n",
      " 0 0 0 0 0 0 0 0 0 0 0 0 0 1 1 1 1 1 1 1 1 1 1 1 1 1 1 1 1 1 1 1 1 1 1 1 1\n",
      " 1 1 1 1 1 1 1 1 1 1 1 1 1 1 1 1 1 1 1 1 1 1 1 1 1 1 2 2 2 2 2 2 2 2 2 2 2\n",
      " 2 2 2 2 2 2 2 2 2 2 2 2 2 2 2 2 2 2 2 2 2 2 2 2 2 2 2 2 2 2 2 2 2 2 2 2 2\n",
      " 2 2]\n",
      "target 명 ['setosa' 'versicolor' 'virginica']\n"
     ]
    },
    {
     "data": {
      "text/html": [
       "<div>\n",
       "<style scoped>\n",
       "    .dataframe tbody tr th:only-of-type {\n",
       "        vertical-align: middle;\n",
       "    }\n",
       "\n",
       "    .dataframe tbody tr th {\n",
       "        vertical-align: top;\n",
       "    }\n",
       "\n",
       "    .dataframe thead th {\n",
       "        text-align: right;\n",
       "    }\n",
       "</style>\n",
       "<table border=\"1\" class=\"dataframe\">\n",
       "  <thead>\n",
       "    <tr style=\"text-align: right;\">\n",
       "      <th></th>\n",
       "      <th>sepal length (cm)</th>\n",
       "      <th>sepal width (cm)</th>\n",
       "      <th>petal length (cm)</th>\n",
       "      <th>petal width (cm)</th>\n",
       "      <th>label</th>\n",
       "    </tr>\n",
       "  </thead>\n",
       "  <tbody>\n",
       "    <tr>\n",
       "      <th>0</th>\n",
       "      <td>5.1</td>\n",
       "      <td>3.5</td>\n",
       "      <td>1.4</td>\n",
       "      <td>0.2</td>\n",
       "      <td>0</td>\n",
       "    </tr>\n",
       "    <tr>\n",
       "      <th>1</th>\n",
       "      <td>4.9</td>\n",
       "      <td>3.0</td>\n",
       "      <td>1.4</td>\n",
       "      <td>0.2</td>\n",
       "      <td>0</td>\n",
       "    </tr>\n",
       "    <tr>\n",
       "      <th>2</th>\n",
       "      <td>4.7</td>\n",
       "      <td>3.2</td>\n",
       "      <td>1.3</td>\n",
       "      <td>0.2</td>\n",
       "      <td>0</td>\n",
       "    </tr>\n",
       "    <tr>\n",
       "      <th>3</th>\n",
       "      <td>4.6</td>\n",
       "      <td>3.1</td>\n",
       "      <td>1.5</td>\n",
       "      <td>0.2</td>\n",
       "      <td>0</td>\n",
       "    </tr>\n",
       "    <tr>\n",
       "      <th>4</th>\n",
       "      <td>5.0</td>\n",
       "      <td>3.6</td>\n",
       "      <td>1.4</td>\n",
       "      <td>0.2</td>\n",
       "      <td>0</td>\n",
       "    </tr>\n",
       "  </tbody>\n",
       "</table>\n",
       "</div>"
      ],
      "text/plain": [
       "   sepal length (cm)  sepal width (cm)  ...  petal width (cm)  label\n",
       "0                5.1               3.5  ...               0.2      0\n",
       "1                4.9               3.0  ...               0.2      0\n",
       "2                4.7               3.2  ...               0.2      0\n",
       "3                4.6               3.1  ...               0.2      0\n",
       "4                5.0               3.6  ...               0.2      0\n",
       "\n",
       "[5 rows x 5 columns]"
      ]
     },
     "execution_count": 1,
     "metadata": {
      "tags": []
     },
     "output_type": "execute_result"
    }
   ],
   "source": [
    "import pandas as pd\n",
    "from sklearn.datasets import load_iris\n",
    "\n",
    "iris = load_iris()\n",
    "\n",
    "print(\"들어 있는 key들\", iris.keys())\n",
    "\n",
    "iris_data = iris.data\n",
    "iris_label = iris.target\n",
    "\n",
    "# 독특하게 내장 데이터셋이 df로 들어 있는게 아니라 ndarray로 들어있으며\n",
    "# target, target_names, feature_names가 별도로 iris의 키로 들어 있음\n",
    "print(\"data type\", type(iris_data))\n",
    "print(\"target 값\", iris_label)\n",
    "print(\"target 명\", iris.target_names)\n",
    "\n",
    "# 따라서 이를 df로 만들기 위해서 별도의 가공이 필요함\n",
    "iris_df = pd.DataFrame(iris_data, columns=iris.feature_names)\n",
    "iris_df['label'] = iris.target\n",
    "iris_df.head()"
   ]
  },
  {
   "cell_type": "code",
   "execution_count": null,
   "metadata": {
    "colab": {
     "base_uri": "https://localhost:8080/"
    },
    "id": "yd1g0z5sGhgV",
    "outputId": "f5444c08-7066-4521-d8d4-eab32bc633b8"
   },
   "outputs": [
    {
     "name": "stdout",
     "output_type": "stream",
     "text": [
      "인코딩 변환값: [4 0 2 3 1 1]\n"
     ]
    }
   ],
   "source": [
    "from sklearn.preprocessing import LabelEncoder\n",
    "items=['트와이스','BTS','레드벨벳','신화','GOD','GOD']\n",
    "# LabelEncoder를 객체로 생성한 후 , fit( ) 과 transform( ) 으로 label 인코딩 수행. \n",
    "encoder = LabelEncoder()\n",
    "encoder.fit(items)\n",
    "labels = encoder.transform(items)\n",
    "print('인코딩 변환값:',labels)"
   ]
  },
  {
   "cell_type": "code",
   "execution_count": null,
   "metadata": {
    "colab": {
     "base_uri": "https://localhost:8080/"
    },
    "id": "zsKCSmsnGnE9",
    "outputId": "c6cb2dbf-d726-4c23-bd09-61b6a773db9e"
   },
   "outputs": [
    {
     "name": "stdout",
     "output_type": "stream",
     "text": [
      "원-핫 인코딩 데이터\n",
      "[[0. 0. 0. 0. 1.]\n",
      " [1. 0. 0. 0. 0.]\n",
      " [0. 0. 1. 0. 0.]\n",
      " [0. 0. 0. 1. 0.]\n",
      " [0. 1. 0. 0. 0.]\n",
      " [0. 1. 0. 0. 0.]]\n",
      "원-핫 인코딩 데이터 차원\n",
      "(6, 5)\n"
     ]
    }
   ],
   "source": [
    "from sklearn.preprocessing import OneHotEncoder\n",
    "import numpy as np\n",
    "items=['트와이스','BTS','레드벨벳','신화','GOD','GOD']\n",
    "# 먼저 숫자값으로 변환을 위해 LabelEncoder로 변환합니다. \n",
    "encoder = LabelEncoder()\n",
    "encoder.fit(items)\n",
    "labels = encoder.transform(items)\n",
    "# 2차원 데이터로 변환합니다. \n",
    "labels = labels.reshape(-1,1)\n",
    "# 원-핫 인코딩을 적용합니다. \n",
    "oh_encoder = OneHotEncoder()\n",
    "oh_encoder.fit(labels)\n",
    "oh_labels = oh_encoder.transform(labels)\n",
    "print('원-핫 인코딩 데이터')\n",
    "print(oh_labels.toarray())\n",
    "print('원-핫 인코딩 데이터 차원')\n",
    "print(oh_labels.shape)"
   ]
  },
  {
   "cell_type": "code",
   "execution_count": null,
   "metadata": {
    "colab": {
     "base_uri": "https://localhost:8080/"
    },
    "id": "gKYaJfkjGp9q",
    "outputId": "880a0789-594b-41bf-a1b4-e4e638317b21"
   },
   "outputs": [
    {
     "data": {
      "text/html": [
       "<div>\n",
       "<style scoped>\n",
       "    .dataframe tbody tr th:only-of-type {\n",
       "        vertical-align: middle;\n",
       "    }\n",
       "\n",
       "    .dataframe tbody tr th {\n",
       "        vertical-align: top;\n",
       "    }\n",
       "\n",
       "    .dataframe thead th {\n",
       "        text-align: right;\n",
       "    }\n",
       "</style>\n",
       "<table border=\"1\" class=\"dataframe\">\n",
       "  <thead>\n",
       "    <tr style=\"text-align: right;\">\n",
       "      <th></th>\n",
       "      <th>item</th>\n",
       "    </tr>\n",
       "  </thead>\n",
       "  <tbody>\n",
       "    <tr>\n",
       "      <th>0</th>\n",
       "      <td>트와이스</td>\n",
       "    </tr>\n",
       "    <tr>\n",
       "      <th>1</th>\n",
       "      <td>BTS</td>\n",
       "    </tr>\n",
       "    <tr>\n",
       "      <th>2</th>\n",
       "      <td>레드벨벳</td>\n",
       "    </tr>\n",
       "    <tr>\n",
       "      <th>3</th>\n",
       "      <td>신화</td>\n",
       "    </tr>\n",
       "    <tr>\n",
       "      <th>4</th>\n",
       "      <td>GOD</td>\n",
       "    </tr>\n",
       "    <tr>\n",
       "      <th>5</th>\n",
       "      <td>GOD</td>\n",
       "    </tr>\n",
       "  </tbody>\n",
       "</table>\n",
       "</div>"
      ],
      "text/plain": [
       "   item\n",
       "0  트와이스\n",
       "1   BTS\n",
       "2  레드벨벳\n",
       "3    신화\n",
       "4   GOD\n",
       "5   GOD"
      ]
     },
     "execution_count": 5,
     "metadata": {
      "tags": []
     },
     "output_type": "execute_result"
    }
   ],
   "source": [
    "import pandas as pd\n",
    "df = pd.DataFrame({'item':['트와이스','BTS','레드벨벳','신화','GOD','GOD'] })\n",
    "df\n",
    "# pd.get_dummies(df)# 원핫인코딩 실행"
   ]
  },
  {
   "cell_type": "code",
   "execution_count": null,
   "metadata": {
    "colab": {
     "base_uri": "https://localhost:8080/"
    },
    "id": "E1GPC5gQKZE9",
    "outputId": "ac72884c-3321-4552-fbd3-6c7619dfddc7"
   },
   "outputs": [
    {
     "name": "stdout",
     "output_type": "stream",
     "text": [
      "=======BEFORE=======\n",
      "[mean]\n",
      " sepal length (cm)    5.843333\n",
      "sepal width (cm)     3.057333\n",
      "petal length (cm)    3.758000\n",
      "petal width (cm)     1.199333\n",
      "dtype: float64\n",
      "\n",
      "[var]\n",
      " sepal length (cm)    0.685694\n",
      "sepal width (cm)     0.189979\n",
      "petal length (cm)    3.116278\n",
      "petal width (cm)     0.581006\n",
      "dtype: float64\n",
      "\n",
      "=======AFTER=======\n",
      "[mean]\n",
      " sepal length (cm)   -1.690315e-15\n",
      "sepal width (cm)    -1.842970e-15\n",
      "petal length (cm)   -1.698641e-15\n",
      "petal width (cm)    -1.409243e-15\n",
      "dtype: float64\n",
      "\n",
      "[var]\n",
      " sepal length (cm)    1.006711\n",
      "sepal width (cm)     1.006711\n",
      "petal length (cm)    1.006711\n",
      "petal width (cm)     1.006711\n",
      "dtype: float64\n"
     ]
    }
   ],
   "source": [
    "from sklearn.datasets import load_iris\n",
    "from sklearn.preprocessing import StandardScaler\n",
    "import pandas as pd\n",
    "\n",
    "iris = load_iris()\n",
    "iris_df = pd.DataFrame(data=iris.data, columns=iris.feature_names)\n",
    "\n",
    "print('=======BEFORE=======')\n",
    "print('[mean]\\n', iris_df.mean())\n",
    "print('\\n[var]\\n', iris_df.var())\n",
    "\n",
    "scaler = StandardScaler()\n",
    "scaler.fit(iris_df)\n",
    "scaled = scaler.transform(iris_df)\n",
    "# 이 때 transform( ) 결과는 ndarray이므로 다시 DataFrame으로 반환하기.\n",
    "scaled_iris = pd.DataFrame(scaled, columns=iris.feature_names)\n",
    "\n",
    "print('\\n=======AFTER=======')\n",
    "print('[mean]\\n', scaled_iris.mean())\n",
    "print('\\n[var]\\n', scaled_iris.var())"
   ]
  },
  {
   "cell_type": "code",
   "execution_count": null,
   "metadata": {
    "colab": {
     "base_uri": "https://localhost:8080/"
    },
    "id": "CYdI017NL5vU",
    "outputId": "b80eef92-2cb3-42a9-cc33-1cfbabe4c796"
   },
   "outputs": [
    {
     "name": "stdout",
     "output_type": "stream",
     "text": [
      "[최솟값]\n",
      "sepal length (cm)    0.0\n",
      "sepal width (cm)     0.0\n",
      "petal length (cm)    0.0\n",
      "petal width (cm)     0.0\n",
      "dtype: float64\n",
      "\n",
      "[최댓값]\n",
      "sepal length (cm)    1.0\n",
      "sepal width (cm)     1.0\n",
      "petal length (cm)    1.0\n",
      "petal width (cm)     1.0\n",
      "dtype: float64\n"
     ]
    }
   ],
   "source": [
    "from sklearn.preprocessing import MinMaxScaler\n",
    "\n",
    "scaler = MinMaxScaler()\n",
    "scaler.fit(iris_df)\n",
    "iris_scaled = scaler.transform(iris_df)\n",
    "\n",
    "# 역시나 transform() 결과가 ndarray라 DataFrame으로 바꿔준다.\n",
    "df_scaled = pd.DataFrame(iris_scaled, columns=iris.feature_names)\n",
    "print('[최솟값]')\n",
    "print(df_scaled.min())\n",
    "print('\\n[최댓값]')\n",
    "print(df_scaled.max())"
   ]
  },
  {
   "cell_type": "markdown",
   "metadata": {
    "id": "Dy0ha4dERvJn"
   },
   "source": [
    "## "
   ]
  }
 ],
 "metadata": {
  "colab": {
   "collapsed_sections": [
    "M8Da2DT86_my"
   ],
   "name": "(p)DALC_AIstudy2_Regression.ipynb",
   "provenance": [],
   "toc_visible": true
  },
  "kernelspec": {
   "display_name": "Python 3",
   "language": "python",
   "name": "python3"
  },
  "language_info": {
   "codemirror_mode": {
    "name": "ipython",
    "version": 3
   },
   "file_extension": ".py",
   "mimetype": "text/x-python",
   "name": "python",
   "nbconvert_exporter": "python",
   "pygments_lexer": "ipython3",
   "version": "3.6.5"
  }
 },
 "nbformat": 4,
 "nbformat_minor": 1
}
