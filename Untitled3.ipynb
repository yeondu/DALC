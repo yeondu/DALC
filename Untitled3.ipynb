{
  "nbformat": 4,
  "nbformat_minor": 0,
  "metadata": {
    "colab": {
      "name": "Untitled3.ipynb",
      "provenance": [],
      "authorship_tag": "ABX9TyP6nsx+5vBm1erEY1cbh0da",
      "include_colab_link": true
    },
    "kernelspec": {
      "name": "python3",
      "display_name": "Python 3"
    },
    "language_info": {
      "name": "python"
    }
  },
  "cells": [
    {
      "cell_type": "markdown",
      "metadata": {
        "id": "view-in-github",
        "colab_type": "text"
      },
      "source": [
        "<a href=\"https://colab.research.google.com/github/yeondu/DALC/blob/DALC_1/Untitled3.ipynb\" target=\"_parent\"><img src=\"https://colab.research.google.com/assets/colab-badge.svg\" alt=\"Open In Colab\"/></a>"
      ]
    },
    {
      "cell_type": "code",
      "metadata": {
        "id": "Imp_MnsHXQ1m"
      },
      "source": [
        "# 패키지 선언\n",
        "\n",
        "import numpy as np\n",
        "from matplotlib import pyplot as plt\n",
        "from tensorflow.keras import datasets, layers, models\n",
        "\n",
        "# Numpy를 이용하여 Sin 그래프 만들기(700개는 학습 set, 200개는 테스트 set) \n",
        "\n",
        "data = np.sin( np.pi * np.arange(0, 100)* 2.025 ) + np.random.random(100)\n",
        "\n",
        "x = np.array([data[i+j] for i in range(len(data)-10) for j in range(10)])\n",
        "\n",
        "x_train = x[:700].reshape(-1,10,1)\n",
        "\n",
        "x_test = x[700:].reshape(-1,10,1)\n",
        "\n",
        "y = np.array([data[i+10] for i in range(len(data)-10)])\n",
        "\n",
        "y_train = y[:70].reshape(-1,1)\n",
        "\n",
        "y_test = y[70:].reshape(-1,1)\n",
        "\n",
        "#모델 만들기\n",
        "\n",
        "model = models.Sequential()\n",
        "#입력층 생성\n",
        "model.add(layers.SimpleRNN(8,input_shape = (10,1))) \n",
        "#출력층 생성\n",
        "model.add(layers.Dense(1)) \n",
        "\n",
        "model.compile(optimizer='adam',loss='mse')\n",
        "\n",
        "model.fit(x_train,y_train,epochs=400,verbose=0) \n",
        "\n",
        "#예측\n",
        "\n",
        "y_hat = model.predict(x_test)"
      ],
      "execution_count": 1,
      "outputs": []
    }
  ]
}