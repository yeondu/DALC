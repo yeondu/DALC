{
 "cells": [
  {
   "cell_type": "markdown",
   "metadata": {
    "id": "g63soNOvFUSa"
   },
   "source": [
    "# 서포트 벡터 머신(Support Vector Machines)"
   ]
  },
  {
   "cell_type": "markdown",
   "metadata": {
    "id": "Rrbp02Mk5CDA"
   },
   "source": [
    "[참고강의](https://www.youtube.com/watch?v=dGjBhSHW9lg&t=4907s)\n",
    "\n",
    "* 회귀, 분류, 이상치 탐지 등에 사용되는 지도학습 방법\n",
    "* 클래스 사이의 경계에 위치한 데이터 포인트를 서포트 벡터(support vector)라고 함\n",
    "* 각 지지 벡터가 클래스 사이의 결정 경계를 구분하는데 얼마나 중요한지를 학습\n",
    "* 각 지지 벡터 사이의 마진이 가장 큰 방향으로 학습\n",
    "* 지지 벡터 까지의 거리와 지지 벡터의 중요도를 기반으로 예측을 수행\n",
    "\n",
    "![support vector machine](https://upload.wikimedia.org/wikipedia/commons/thumb/2/20/Svm_separating_hyperplanes.png/220px-Svm_separating_hyperplanes.png)\n",
    "\n",
    "* H3은 두 클래스의 점들을 제대로 분류하고 있지 않음\n",
    "* H1과 H2는 두 클래스의 점들을 분류하는데, H2가 H1보다 더 큰 마진을 갖고 분류하는 것을 확인할 수 있음"
   ]
  },
  {
   "cell_type": "code",
   "execution_count": 1,
   "metadata": {
    "executionInfo": {
     "elapsed": 2140,
     "status": "ok",
     "timestamp": 1618049700474,
     "user": {
      "displayName": "seola jo",
      "photoUrl": "",
      "userId": "10916076916023213174"
     },
     "user_tz": -540
    },
    "id": "zBilnkAn4_U3"
   },
   "outputs": [],
   "source": [
    "import multiprocessing #계산량이 많을 때 효율적인 프로세싱을 도움\n",
    "import pandas as pd\n",
    "import numpy as np\n",
    "import matplotlib.pyplot as plt\n",
    "plt.style.use(['seaborn-whitegrid']) #시각화 스타일 설정"
   ]
  },
  {
   "cell_type": "code",
   "execution_count": 2,
   "metadata": {
    "executionInfo": {
     "elapsed": 2199,
     "status": "ok",
     "timestamp": 1618049703986,
     "user": {
      "displayName": "seola jo",
      "photoUrl": "",
      "userId": "10916076916023213174"
     },
     "user_tz": -540
    },
    "id": "1YRJRPy6hTe0"
   },
   "outputs": [],
   "source": [
    "from sklearn.svm import SVR, SVC #서포트 벡터 머신 알고리즘 제공/ SVR : sv회귀 , SVC : sv분류\n",
    "from sklearn.datasets import load_boston, load_breast_cancer, load_diabetes, load_iris, load_wine #데이터셋 불러오기\n",
    "from sklearn.pipeline import make_pipeline, Pipeline #특징 처리 등의 변환과 ML 알고리즘 학습, 예측 등을 묶어서 실행할 수 있는 유틸리티 제공\n",
    "from sklearn.model_selection import train_test_split, cross_validate, GridSearchCV #교차 검증을 위해 데이터를 학습/테스트용으로 분리, 최적 파라미터를 추출하는 API 제공 (GridSearch 등)\n",
    "from sklearn.preprocessing import StandardScaler, MinMaxScaler #preprocessing : 다양한 데이터 전처리 기능 제공 (변환, 정규화, 스케일링 등)\n",
    "from sklearn.manifold import TSNE #고차원의 데이터를 그보다 낮은 2,3차원 데이터로 시각화하는데 쓰이는 알고리즘"
   ]
  },
  {
   "cell_type": "markdown",
   "metadata": {
    "id": "YVyLZKunSPeq"
   },
   "source": [
    "* [(데이터)스케일링이란?](https://homeproject.tistory.com/entry/%EB%8D%B0%EC%9D%B4%ED%84%B0-%EC%8A%A4%EC%BC%80%EC%9D%BC%EB%A7%81-Data-Scaling)\n",
    "*  [manifold란? TSNE알고리즘이란?](https://agiantmind.tistory.com/215)\n",
    "*  [multiprocessing이란?](https://wikidocs.net/85603)"
   ]
  },
  {
   "cell_type": "markdown",
   "metadata": {
    "id": "UxS0mPsCh4l0"
   },
   "source": [
    "## SVM을 이용한 회귀 모델과 분류 모델"
   ]
  },
  {
   "cell_type": "markdown",
   "metadata": {
    "id": "q0fTMjJXya-H"
   },
   "source": [
    "### [참고]분류 또는 회귀용 데이터 세트\n",
    "\n",
    "| API | 설명 |\n",
    "|-----|------|\n",
    "| `datasets.load_boston()` | 미국 보스턴의 집에 대한 특징과 가격 데이터 (회귀용) |\n",
    "| `datasets.load_breast_cancer()` | 위스콘신 유방암 특징들과 악성/음성 레이블 데이터 (분류용) |\n",
    "| `datasets.load_diabetes()` | 당뇨 데이터 (회귀용) |\n",
    "| `datasets.load_digits()` | 0에서 9까지 숫자 이미지 픽셀 데이터 (분류용) |\n",
    "| `datasets.load_iris()` | 붓꽃에 대한 특징을 가진 데이터 (분류용) |"
   ]
  },
  {
   "cell_type": "markdown",
   "metadata": {
    "id": "NTtcx3p8wtNX"
   },
   "source": [
    "### SVM을 사용한 회귀 모델 (SVR)"
   ]
  },
  {
   "cell_type": "code",
   "execution_count": 3,
   "metadata": {
    "colab": {
     "base_uri": "https://localhost:8080/"
    },
    "executionInfo": {
     "elapsed": 1017,
     "status": "ok",
     "timestamp": 1618029277864,
     "user": {
      "displayName": "seola jo",
      "photoUrl": "",
      "userId": "10916076916023213174"
     },
     "user_tz": -540
    },
    "id": "sCrhSrMf5BqB",
    "outputId": "d290ffcb-2cff-4fbc-bee5-bc9399ca89c2"
   },
   "outputs": [
    {
     "name": "stdout",
     "output_type": "stream",
     "text": [
      "학습 데이터 점수: 0.14581743554284632\n",
      "평가 데이터 점수: 0.0008910347420971743\n"
     ]
    }
   ],
   "source": [
    "#BOSTON(회귀용 데이터셋)\n",
    "X, y = load_boston(return_X_y=True)#함수들의 매개변수 return_X_y를 True로 설정하면 Bunch 클래스가 아닌 특성 X와 타깃 y로 반환\n",
    "X_train, X_test, y_train, y_test = train_test_split(X, y, random_state=123)\n",
    "#random_state : 데이터 분할시 셔플이 이루어지는데 이를 위한 시드값 (int나 RandomState로 입력)\n",
    "#X_train, X_test, y_train, y_test : 분할시킬 데이터로 train_test_split의 파라미터 안에 데이터(특성 X)와 레이블(타깃 y)을 둘 다 넣었을 경우의 반환이며, 데이터와 레이블의 순서쌍은 유지된다.\n",
    "\n",
    "model = SVR()\n",
    "model.fit(X_train, y_train)\n",
    "#데이터를 어떤 모델에 적합시킬 때, 그 모델 클래스의 인스턴스의 fit() 메서드를 호출한다\n",
    "print(\"학습 데이터 점수: {}\".format(model.score(X_train, y_train)))\n",
    "print(\"평가 데이터 점수: {}\".format(model.score(X_test, y_test)))"
   ]
  },
  {
   "cell_type": "markdown",
   "metadata": {
    "id": "CQraX6MzwvtE"
   },
   "source": [
    "### SVM을 사용한 분류 모델 (SVC)"
   ]
  },
  {
   "cell_type": "code",
   "execution_count": 4,
   "metadata": {
    "colab": {
     "base_uri": "https://localhost:8080/"
    },
    "executionInfo": {
     "elapsed": 1039,
     "status": "ok",
     "timestamp": 1618029281316,
     "user": {
      "displayName": "seola jo",
      "photoUrl": "",
      "userId": "10916076916023213174"
     },
     "user_tz": -540
    },
    "id": "bnh5fS8gFbtK",
    "outputId": "d56c991b-a4bc-4cf6-bfb4-ab005fc0f9d2"
   },
   "outputs": [
    {
     "name": "stdout",
     "output_type": "stream",
     "text": [
      "학습 데이터 점수: 1.0\n",
      "평가 데이터 점수: 0.6223776223776224\n"
     ]
    }
   ],
   "source": [
    "#BREAST_CANCER\n",
    "X, y = load_breast_cancer(return_X_y=True)\n",
    "X_train, X_test, y_train, y_test = train_test_split(X, y, random_state=123)\n",
    "\n",
    "model = SVC()\n",
    "model.fit(X_train, y_train)\n",
    "\n",
    "print(\"학습 데이터 점수: {}\".format(model.score(X_train, y_train)))\n",
    "print(\"평가 데이터 점수: {}\".format(model.score(X_test, y_test)))"
   ]
  },
  {
   "cell_type": "markdown",
   "metadata": {
    "id": "zgd_dvKrGeFh"
   },
   "source": [
    "## 커널 기법\n",
    "\n",
    "* 입력 데이터를 고차원 공간에 사상해서 비선형 특징을 학습할 수 있도록 확장하는 방법\n",
    "* scikit-learn에서는 Linear, Polynomial, RBF(Radial Basis Function)등 다양한 커널 기법을 지원\n",
    "\n",
    "![kernel trick](https://scikit-learn.org/stable/_images/sphx_glr_plot_iris_svc_0011.png)"
   ]
  },
  {
   "cell_type": "code",
   "execution_count": null,
   "metadata": {
    "colab": {
     "base_uri": "https://localhost:8080/"
    },
    "executionInfo": {
     "elapsed": 6076,
     "status": "ok",
     "timestamp": 1618029289704,
     "user": {
      "displayName": "seola jo",
      "photoUrl": "",
      "userId": "10916076916023213174"
     },
     "user_tz": -540
    },
    "id": "Azq1UJtZF8sU",
    "outputId": "ce4d2ee4-45e5-4660-ea78-07031cf97ea8"
   },
   "outputs": [
    {
     "name": "stdout",
     "output_type": "stream",
     "text": [
      "Linear SVR 학습 데이터 점수: 0.7153702841875516\n",
      "Linear SVR 평가 데이터 점수: 0.6377861956176316\n"
     ]
    }
   ],
   "source": [
    "#회귀(boston)\n",
    "\n",
    "X, y = load_boston(return_X_y=True)\n",
    "X_train, X_test, y_train, y_test = train_test_split(X, y, random_state=123)\n",
    "\n",
    "#Linear SVR\n",
    "linear_svr = SVR(kernel='linear')\n",
    "linear_svr.fit(X_train, y_train)\n",
    "\n",
    "print(\"Linear SVR 학습 데이터 점수: {}\".format(linear_svr.score(X_train, y_train)))\n",
    "print(\"Linear SVR 평가 데이터 점수: {}\".format(linear_svr.score(X_test, y_test)))\n",
    "\n",
    "#Polynomial SVR\n",
    "polynomial_svr = SVR(kernel='poly')\n",
    "polynomial_svr.fit(X_train, y_train)\n",
    "\n",
    "print(\"Polynomial SVR 학습 데이터 점수: {}\".format(polynomial_svr.score(X_train, y_train)))\n",
    "print(\"Polynomial SVR 평가 데이터 점수: {}\".format(polynomial_svr.score(X_test, y_test)))\n",
    "\n",
    "#RBF SVR\n",
    "rbf_svr = SVR(kernel='rbf')\n",
    "rbf_svr.fit(X_train, y_train)\n",
    "\n",
    "print(\"RBF SVR 학습 데이터 점수: {}\".format(rbf_svr.score(X_train, y_train)))\n",
    "print(\"RBF SVR 평가 데이터 점수: {}\".format(rbf_svr.score(X_test, y_test)))"
   ]
  },
  {
   "cell_type": "code",
   "execution_count": null,
   "metadata": {
    "colab": {
     "base_uri": "https://localhost:8080/"
    },
    "executionInfo": {
     "elapsed": 1330,
     "status": "ok",
     "timestamp": 1617992166807,
     "user": {
      "displayName": "seola jo",
      "photoUrl": "",
      "userId": "10916076916023213174"
     },
     "user_tz": -540
    },
    "id": "KuvRIzarJO0H",
    "outputId": "82084ac5-5bbd-424d-e695-e07c4cf5f8f5"
   },
   "outputs": [],
   "source": [
    "#분류(breast_cancer)\n",
    "\n",
    "X, y = load_breast_cancer(return_X_y=True)\n",
    "X_train, X_test, y_train, y_test = train_test_split(X, y, random_state=123)\n",
    "\n",
    "#Linear SVC\n",
    "linear_svc = SVC(kernel='linear')\n",
    "linear_svc.fit(X_train, y_train)\n",
    "\n",
    "print(\"Linear SVC 학습 데이터 점수: {}\".format(linear_svc.score(X_train, y_train)))\n",
    "print(\"Linear SVC 평가 데이터 점수: {}\".format(linear_svc.score(X_test, y_test)))\n",
    "\n",
    "#Polynomial SVC\n",
    "polynomial_svc = SVC(kernel='poly')\n",
    "polynomial_svc.fit(X_train, y_train)\n",
    "\n",
    "print(\"Polynomial SVC 학습 데이터 점수: {}\".format(polynomial_svc.score(X_train, y_train)))\n",
    "print(\"Polynomial SVC 평가 데이터 점수: {}\".format(polynomial_svc.score(X_test, y_test)))\n",
    "\n",
    "#RBF SVC\n",
    "rbf_svc = SVC(kernel='rbf')\n",
    "rbf_svc.fit(X_train, y_train)\n",
    "\n",
    "print(\"RBF SVC 학습 데이터 점수: {}\".format(rbf_svc.score(X_train, y_train)))\n",
    "print(\"RBF SVC 평가 데이터 점수: {}\".format(rbf_svc.score(X_test, y_test)))"
   ]
  },
  {
   "cell_type": "markdown",
   "metadata": {
    "id": "ysbUu5o3Lm2V"
   },
   "source": [
    "## 매개변수 튜닝\n",
    "\n",
    "* SVM은 사용하는 커널에 따라 다양한 매개변수 설정 가능\n",
    "* 매개변수를 변경하면서 성능변화를 관찰"
   ]
  },
  {
   "cell_type": "code",
   "execution_count": null,
   "metadata": {
    "id": "JyCxM4abOZyO"
   },
   "outputs": [],
   "source": [
    "X, y = load_breast_cancer(return_X_y=True)\n",
    "X_train, X_test, y_train, y_test = train_test_split(X, y, random_state=123)"
   ]
  },
  {
   "cell_type": "code",
   "execution_count": null,
   "metadata": {
    "colab": {
     "base_uri": "https://localhost:8080/"
    },
    "executionInfo": {
     "elapsed": 30143,
     "status": "ok",
     "timestamp": 1617992648150,
     "user": {
      "displayName": "seola jo",
      "photoUrl": "",
      "userId": "10916076916023213174"
     },
     "user_tz": -540
    },
    "id": "QN4BSxiaJspb",
    "outputId": "4351004c-406d-4ff9-eefb-ed5895af32bc"
   },
   "outputs": [],
   "source": [
    "#Polynomial SVC\n",
    "polynomial_svc = SVC(kernel='poly', degree=2, C=0.1, gamma='auto')  #기본값(degree=3(degree값은 poly만 있음) / C=1.0 / gamma='scale')\n",
    "polynomial_svc.fit(X_train, y_train)\n",
    "\n",
    "print(\"kernel=poly, degree={}, C={}, gamma={}\".format(2, 0.1, 'auto'))\n",
    "print(\"Polynomial SVC 학습 데이터 점수: {}\".format(polynomial_svc.score(X_train, y_train)))\n",
    "print(\"Polynomial SVC 평가 데이터 점수: {}\".format(polynomial_svc.score(X_test, y_test)))\n",
    "\n",
    "#실행시간 더딘 점 참고\n",
    "#매개변수 튜닝하니 값이 훨씬 나아짐"
   ]
  },
  {
   "cell_type": "code",
   "execution_count": null,
   "metadata": {
    "colab": {
     "base_uri": "https://localhost:8080/"
    },
    "executionInfo": {
     "elapsed": 734,
     "status": "ok",
     "timestamp": 1617993030743,
     "user": {
      "displayName": "seola jo",
      "photoUrl": "",
      "userId": "10916076916023213174"
     },
     "user_tz": -540
    },
    "id": "P7hOhO1oOvVC",
    "outputId": "61b4efb5-f49a-4102-865d-5b25ba01b790"
   },
   "outputs": [],
   "source": [
    "#RBF SVC\n",
    "rbf_svc = SVC(kernel='rbf', C=2.0, gamma='scale')\n",
    "rbf_svc.fit(X_train, y_train)\n",
    "\n",
    "print(\"kernel=rbf, C={}, gamma={}\".format(2.0, 'scale'))\n",
    "print(\"RBF SVC 학습 데이터 점수: {}\".format(rbf_svc.score(X_train, y_train)))\n",
    "print(\"RBF SVC 평가 데이터 점수: {}\".format(rbf_svc.score(X_test, y_test)))\n",
    "\n",
    "#C값과 gamma를 직접 이리저리 바꿔가며 최적을 찾아본다."
   ]
  },
  {
   "cell_type": "markdown",
   "metadata": {
    "id": "aEQL8h8WU0An"
   },
   "source": [
    "## 데이터 전처리\n",
    "\n",
    "* SVM은 입력 데이터가 정규화 되어야 좋은 성능을 보임\n",
    "* 주로 모든 특성 값을 [0, 1] 범위로 맞추는 방법을 사용(MinMaxScaler 사용)\n",
    "* scikit-learn의 StandardScaler 또는 MinMaxScaler를 사용해 정규화"
   ]
  },
  {
   "cell_type": "code",
   "execution_count": null,
   "metadata": {
    "id": "RujhqUOsVU73"
   },
   "outputs": [],
   "source": [
    "X, y = load_breast_cancer(return_X_y=True)\n",
    "X_train, X_test, y_train, y_test = train_test_split(X, y, random_state=123)"
   ]
  },
  {
   "cell_type": "code",
   "execution_count": null,
   "metadata": {
    "colab": {
     "base_uri": "https://localhost:8080/"
    },
    "executionInfo": {
     "elapsed": 687,
     "status": "ok",
     "timestamp": 1618031479830,
     "user": {
      "displayName": "seola jo",
      "photoUrl": "",
      "userId": "10916076916023213174"
     },
     "user_tz": -540
    },
    "id": "DWau9A6UWds4",
    "outputId": "18fe6d24-8a24-42dd-fa45-a233900e37f5"
   },
   "outputs": [],
   "source": [
    "model = SVC()\n",
    "model.fit(X_train, y_train)\n",
    "\n",
    "print(\"학습 데이터 점수: {}\".format(model.score(X_train, y_train)))\n",
    "print(\"평가 데이터 점수: {}\".format(model.score(X_test, y_test)))"
   ]
  },
  {
   "cell_type": "code",
   "execution_count": null,
   "metadata": {
    "id": "y_ScHENS0ssY"
   },
   "outputs": [],
   "source": [
    "#StandardScaler로 스케일링\n",
    "scaler = StandardScaler()\n",
    "X_train = scaler.fit_transform(X_train)\n",
    "X_test = scaler.transform(X_test)"
   ]
  },
  {
   "cell_type": "code",
   "execution_count": null,
   "metadata": {
    "colab": {
     "base_uri": "https://localhost:8080/"
    },
    "executionInfo": {
     "elapsed": 586,
     "status": "ok",
     "timestamp": 1618031483857,
     "user": {
      "displayName": "seola jo",
      "photoUrl": "",
      "userId": "10916076916023213174"
     },
     "user_tz": -540
    },
    "id": "R2_4R6JE0ssi",
    "outputId": "91071545-5d5c-4104-c5ad-9681afb54173"
   },
   "outputs": [],
   "source": [
    "#스케일링해줬으니 다시 적합 실행 및 결과보기. 데이터 전처리 두번째 셀과 동일.\n",
    "model = SVC()\n",
    "model.fit(X_train, y_train)\n",
    "\n",
    "print(\"학습 데이터 점수: {}\".format(model.score(X_train, y_train)))\n",
    "print(\"평가 데이터 점수: {}\".format(model.score(X_test, y_test)))"
   ]
  },
  {
   "cell_type": "code",
   "execution_count": null,
   "metadata": {
    "id": "_EVkj33WVQOu"
   },
   "outputs": [],
   "source": [
    "#MinMaxScaler로 스케일링\n",
    "scaler = MinMaxScaler()\n",
    "X_train = scaler.fit_transform(X_train)\n",
    "X_test = scaler.transform(X_test)"
   ]
  },
  {
   "cell_type": "code",
   "execution_count": null,
   "metadata": {
    "colab": {
     "base_uri": "https://localhost:8080/"
    },
    "executionInfo": {
     "elapsed": 969,
     "status": "ok",
     "timestamp": 1618031499718,
     "user": {
      "displayName": "seola jo",
      "photoUrl": "",
      "userId": "10916076916023213174"
     },
     "user_tz": -540
    },
    "id": "D7Kj3q_bVmeN",
    "outputId": "3b5e910e-2338-4dbb-87d5-b614ab395975"
   },
   "outputs": [],
   "source": [
    "#스케일링해줬으니 다시 적합 실행 및 결과보기\n",
    "model = SVC()\n",
    "model.fit(X_train, y_train)\n",
    "\n",
    "print(\"학습 데이터 점수: {}\".format(model.score(X_train, y_train)))\n",
    "print(\"평가 데이터 점수: {}\".format(model.score(X_test, y_test)))"
   ]
  },
  {
   "cell_type": "markdown",
   "metadata": {
    "id": "4d3ZxGT-rzSF"
   },
   "source": [
    "## Kernel SVR"
   ]
  },
  {
   "cell_type": "markdown",
   "metadata": {
    "id": "sJ4hf_LMr6i4"
   },
   "source": [
    "### 보스턴 주택 가격"
   ]
  },
  {
   "cell_type": "code",
   "execution_count": null,
   "metadata": {
    "executionInfo": {
     "elapsed": 908,
     "status": "ok",
     "timestamp": 1618049814994,
     "user": {
      "displayName": "seola jo",
      "photoUrl": "",
      "userId": "10916076916023213174"
     },
     "user_tz": -540
    },
    "id": "SLtwEtFNDD2E"
   },
   "outputs": [],
   "source": [
    "# 1. 전처리 과정\n",
    "# 1-1. 데이터 나누기\n",
    "'''\n",
    "boston = datasets.load_boston()\n",
    "X = boston.data\n",
    "y = boston.target\n",
    "\n",
    "--> X, y = load_boston(return_X_y=True)\n",
    "'''\n",
    "X, y = load_boston(return_X_y=True)\n",
    "X_train, X_test, y_train, y_test = train_test_split(X, y, test_size=0.2)"
   ]
  },
  {
   "cell_type": "code",
   "execution_count": null,
   "metadata": {
    "id": "MabVzR_RDoA_"
   },
   "outputs": [],
   "source": [
    "# 1-2. 스케일링 과정\n",
    "scaler = StandardScaler()\n",
    "scaler.fit(X_train)\n",
    "X_train = scaler.fit_transform(X_train)\n",
    "X_test = scaler.transform(X_test)"
   ]
  },
  {
   "cell_type": "code",
   "execution_count": null,
   "metadata": {
    "colab": {
     "base_uri": "https://localhost:8080/"
    },
    "executionInfo": {
     "elapsed": 1223,
     "status": "ok",
     "timestamp": 1618030162070,
     "user": {
      "displayName": "seola jo",
      "photoUrl": "",
      "userId": "10916076916023213174"
     },
     "user_tz": -540
    },
    "id": "G1KuZZKyEup_",
    "outputId": "2cfefbf4-afaa-4b1d-9ecf-9c7b736111a0"
   },
   "outputs": [],
   "source": [
    "# 1-3. 매개변수 튜닝(적합)\n",
    "model = SVR(kernel='rbf')\n",
    "model.fit(X_train, y_train)"
   ]
  },
  {
   "cell_type": "code",
   "execution_count": null,
   "metadata": {
    "colab": {
     "base_uri": "https://localhost:8080/"
    },
    "executionInfo": {
     "elapsed": 784,
     "status": "ok",
     "timestamp": 1618030164126,
     "user": {
      "displayName": "seola jo",
      "photoUrl": "",
      "userId": "10916076916023213174"
     },
     "user_tz": -540
    },
    "id": "HdROKnxeFOAo",
    "outputId": "126a3067-b309-414f-de90-3bc909be159e"
   },
   "outputs": [],
   "source": [
    "# 1-4. 결과출력\n",
    "print(\"RBF SVR 학습 데이터 점수: {}\".format(model.score(X_train, y_train)))\n",
    "print(\"RBF SVR 평가 데이터 점수: {}\".format(model.score(X_test, y_test)))"
   ]
  },
  {
   "cell_type": "code",
   "execution_count": null,
   "metadata": {
    "colab": {
     "base_uri": "https://localhost:8080/",
     "height": 280
    },
    "executionInfo": {
     "elapsed": 3046,
     "status": "ok",
     "timestamp": 1618030200801,
     "user": {
      "displayName": "seola jo",
      "photoUrl": "",
      "userId": "10916076916023213174"
     },
     "user_tz": -540
    },
    "id": "2Jn9fqr4mD-6",
    "outputId": "d3df1ebd-157c-4d67-fc07-3bfbd5e91440"
   },
   "outputs": [],
   "source": [
    "# 5. 왜 점수가 낮게/높게 나오는지 확인\n",
    "#TSNE 알고리즘: 데이터 포인트 사이의 거리를 가장 잘 보존하는 2차원 표현을 찾는 것\n",
    "#n_components=n : n차원으로 시각화\n",
    "X_comp = TSNE(n_components=1).fit_transform(X)\n",
    "plt.scatter(X_comp, y)"
   ]
  },
  {
   "cell_type": "code",
   "execution_count": null,
   "metadata": {
    "colab": {
     "base_uri": "https://localhost:8080/",
     "height": 280
    },
    "executionInfo": {
     "elapsed": 1148,
     "status": "ok",
     "timestamp": 1618029740975,
     "user": {
      "displayName": "seola jo",
      "photoUrl": "",
      "userId": "10916076916023213174"
     },
     "user_tz": -540
    },
    "id": "8zS9R6wMmD_F",
    "outputId": "f44e939c-8057-4f87-b20f-5e309c46e571"
   },
   "outputs": [],
   "source": [
    "# 6. 적합 후 예측결과 시각화\n",
    "model.fit(X_comp, y)\n",
    "predict = model.predict(X_comp)\n",
    "plt.scatter(X_comp, y)\n",
    "plt.scatter(X_comp, predict, color='r')"
   ]
  },
  {
   "cell_type": "code",
   "execution_count": null,
   "metadata": {
    "colab": {
     "base_uri": "https://localhost:8080/"
    },
    "executionInfo": {
     "elapsed": 2048,
     "status": "ok",
     "timestamp": 1618029746195,
     "user": {
      "displayName": "seola jo",
      "photoUrl": "",
      "userId": "10916076916023213174"
     },
     "user_tz": -540
    },
    "id": "ovm2hQnKF83i",
    "outputId": "509a13e0-261e-4f8f-f573-be8a279da403"
   },
   "outputs": [],
   "source": [
    "# 7. 교차검증 실행(cross validation)\n",
    "estimator = make_pipeline(StandardScaler(), SVR(kernel='rbf'))\n",
    "cross_validate(\n",
    "    estimator = estimator,\n",
    "    X=X, y=y,\n",
    "    cv=5,\n",
    "    n_jobs=multiprocessing.cpu_count(),\n",
    "    verbose=True\n",
    ")"
   ]
  },
  {
   "cell_type": "code",
   "execution_count": null,
   "metadata": {
    "colab": {
     "base_uri": "https://localhost:8080/"
    },
    "executionInfo": {
     "elapsed": 961,
     "status": "ok",
     "timestamp": 1618029749546,
     "user": {
      "displayName": "seola jo",
      "photoUrl": "",
      "userId": "10916076916023213174"
     },
     "user_tz": -540
    },
    "id": "Mx1l35UiGevi",
    "outputId": "7bdaa1a2-3345-4e3a-d027-9abb6b056ea4"
   },
   "outputs": [],
   "source": [
    "# 8. try1: 그리트서치(GridSearchCV)이용해 파이프 파라미터 찾기\n",
    "pipe = Pipeline([('scaler', StandardScaler()),\n",
    "                 ('model', SVR(kernel='rbf'))])\n",
    "\n",
    "param_grid = [{'model__kernel': ['rbf', 'polynomial', 'sigmoid']}]\n",
    "\n",
    "gs = GridSearchCV(\n",
    "    estimator = pipe,\n",
    "    param_grid = param_grid,\n",
    "    n_jobs = multiprocessing.cpu_count(),\n",
    "    cv=5,\n",
    "    verbose=True\n",
    ")\n",
    "\n",
    "gs.fit(X, y)"
   ]
  },
  {
   "cell_type": "code",
   "execution_count": null,
   "metadata": {
    "colab": {
     "base_uri": "https://localhost:8080/"
    },
    "executionInfo": {
     "elapsed": 1045,
     "status": "ok",
     "timestamp": 1618029764605,
     "user": {
      "displayName": "seola jo",
      "photoUrl": "",
      "userId": "10916076916023213174"
     },
     "user_tz": -540
    },
    "id": "lD5wKMgkGCqX",
    "outputId": "86f6fb52-48f5-401b-c7f0-b31bcaaa012a"
   },
   "outputs": [],
   "source": [
    "# 9. 최적 찾기\n",
    "gs.best_estimator_"
   ]
  },
  {
   "cell_type": "code",
   "execution_count": null,
   "metadata": {
    "id": "wRUH4INjG0ET"
   },
   "outputs": [],
   "source": [
    "# 10. try2: 위의 try1에서 최적의 커널로 나온 커널을 파이프라인에서 기본으로 설정하고, 다른 요소들을 param_grid에 추가하여 다시 최적 탐색\n",
    "pipe = Pipeline([('scaler', StandardScaler()),\n",
    "                 ('model', SVR(kernel='rbf'))])\n",
    "\n",
    "param_grid = [{'model__gamma': ['scale', 'auto'],\n",
    "               'model__C':[1.0, 0.1, 0.01],\n",
    "               'model__epsilon':[1.0, 0.1, 0.01]}]\n",
    "#gamma, C, epsilon을 어떤 값을 취해야 최적일지 param_grid에 추가\n",
    "gs = GridSearchCV(\n",
    "    estimator = pipe,\n",
    "    param_grid = param_grid,\n",
    "    n_jobs = multiprocessing.cpu_count(),\n",
    "    cv=5,\n",
    "    verbose=True\n",
    ")\n",
    "\n",
    "gs.fit(X, y)"
   ]
  },
  {
   "cell_type": "code",
   "execution_count": null,
   "metadata": {
    "colab": {
     "base_uri": "https://localhost:8080/"
    },
    "executionInfo": {
     "elapsed": 1030,
     "status": "ok",
     "timestamp": 1618029945709,
     "user": {
      "displayName": "seola jo",
      "photoUrl": "",
      "userId": "10916076916023213174"
     },
     "user_tz": -540
    },
    "id": "XauUUu9QIHWq",
    "outputId": "246d1f26-5ab4-4de8-e4d7-0e69263923ea"
   },
   "outputs": [],
   "source": [
    "# 11. 다시 최적 찾기\n",
    "gs.best_estimator_\n",
    "# gamma='scale', C=1.0, epsilon=0.01일때 최적이라는 결과도출"
   ]
  },
  {
   "cell_type": "markdown",
   "metadata": {
    "id": "WjmIL-u1r9qU"
   },
   "source": [
    "### 당뇨병"
   ]
  },
  {
   "cell_type": "code",
   "execution_count": null,
   "metadata": {
    "id": "UlnjMwqOI1_0"
   },
   "outputs": [],
   "source": [
    "#셀을 채워보세요. 앞선 보스턴 주택 가격과 동일하게 하면 됩니다. 단 데이터는 당뇨병 데이터셋을 불러와주세요.\n",
    "# 1. 전처리 과정(불러오는 데이터만 다름)\n",
    "# 1-1. 데이터 나누기\n",
    "X, y = load_diabetes(return_X_y=True)\n",
    "X_train, X_test, y_train, y_test = train_test_split(X, y, test_size=0.2)"
   ]
  },
  {
   "cell_type": "code",
   "execution_count": null,
   "metadata": {
    "id": "AmFCvtJlI99z"
   },
   "outputs": [],
   "source": [
    "# 1-2. 스케일링 과정\n",
    "scaler = StandardScaler()\n",
    "scaler.fit(X_train)\n",
    "X_train = scaler.fit_transform(X_train)\n",
    "X_test = scaler.transform(X_test)"
   ]
  },
  {
   "cell_type": "code",
   "execution_count": null,
   "metadata": {
    "id": "vbi19fstK0cl"
   },
   "outputs": [],
   "source": [
    "# 1-3. 매개변수 튜닝(적합)\n",
    "model = SVR(kernel='rbf')\n",
    "model.fit(X_train, y_train)"
   ]
  },
  {
   "cell_type": "code",
   "execution_count": null,
   "metadata": {
    "id": "vT1lWiqFK8dd"
   },
   "outputs": [],
   "source": [
    "# 1-4. 결과출력\n",
    "print(\"RBF SVR 학습 데이터 점수: {}\".format(model.score(X_train, y_train)))\n",
    "print(\"RBF SVR 평가 데이터 점수: {}\".format(model.score(X_test, y_test)))"
   ]
  },
  {
   "cell_type": "code",
   "execution_count": null,
   "metadata": {
    "id": "XuWFQJ8GvZXa"
   },
   "outputs": [],
   "source": [
    "# 5. 왜 점수가 낮게/높게 나오는지 확인\n",
    "#TSNE 알고리즘: 데이터 포인트 사이의 거리를 가장 잘 보존하는 2차원 표현을 찾는 것\n",
    "#n_components=n : n차원으로 시각화\n",
    "X_comp = TSNE(n_components=1).fit_transform(X)\n",
    "plt.scatter(X_comp, y)"
   ]
  },
  {
   "cell_type": "code",
   "execution_count": null,
   "metadata": {
    "id": "BUWmex5yvZXl"
   },
   "outputs": [],
   "source": [
    "# 6. 적합 후 예측결과 시각화\n",
    "model.fit(X_comp, y)\n",
    "predict = model.predict(X_comp)\n",
    "plt.scatter(X_comp, y)\n",
    "plt.scatter(X_comp, predict, color='r')"
   ]
  },
  {
   "cell_type": "code",
   "execution_count": null,
   "metadata": {
    "id": "yP_u9K5uLAu3"
   },
   "outputs": [],
   "source": [
    "# 7. 교차검증 실행(cross validation)\n",
    "estimator = make_pipeline(StandardScaler(), SVR(kernel='rbf'))\n",
    "cross_validate(\n",
    "    estimator = estimator,\n",
    "    X=X, y=y,\n",
    "    cv=5,\n",
    "    n_jobs=multiprocessing.cpu_count(),\n",
    "    verbose=True\n",
    ")"
   ]
  },
  {
   "cell_type": "code",
   "execution_count": null,
   "metadata": {
    "id": "sZoj8zj8LI6W"
   },
   "outputs": [],
   "source": [
    "# 8. try1: 그리트서치(GridSearchCV)이용해 파이프 파라미터 찾기\n",
    "pipe = Pipeline([('scaler', StandardScaler()),\n",
    "                 ('model', SVR(kernel='rbf'))])\n",
    "\n",
    "param_grid = [{'model__kernel': ['rbf', 'polynomial', 'sigmoid']}]\n",
    "\n",
    "gs = GridSearchCV(\n",
    "    estimator = pipe,\n",
    "    param_grid = param_grid,\n",
    "    n_jobs = multiprocessing.cpu_count(),\n",
    "    cv=5,\n",
    "    verbose=True\n",
    ")\n",
    "\n",
    "gs.fit(X, y)"
   ]
  },
  {
   "cell_type": "code",
   "execution_count": null,
   "metadata": {
    "id": "9de-eFTnLYDh"
   },
   "outputs": [],
   "source": [
    "# 9. 최적 찾기\n",
    "gs.best_estimator_"
   ]
  },
  {
   "cell_type": "code",
   "execution_count": null,
   "metadata": {
    "id": "BVLIk1PtLhoL"
   },
   "outputs": [],
   "source": [
    "# 10. try2: 위의 try1에서 최적의 커널로 나온 커널을 파이프라인에서 기본으로 설정하고, 다른 요소들을 param_grid에 추가하여 최적 탐색\n",
    "#gamma, C, epsilon을 어떤 값을 취해야 최적일지 param_grid에 추가\n",
    "pipe = Pipeline([('scaler', StandardScaler()),\n",
    "                 ('model', SVR(kernel='rbf'))])\n",
    "\n",
    "param_grid = [{'model__gamma': ['scale', 'auto'],\n",
    "               'model__C':[1.0, 0.1, 0.01],\n",
    "               'model__epsilon':[1.0, 0.1, 0.01]}]\n",
    "#gamma, C, epsilon을 어떤 값을 취해야 최적일지 param_grid에 추가\n",
    "gs = GridSearchCV(\n",
    "    estimator = pipe,\n",
    "    param_grid = param_grid,\n",
    "    n_jobs = multiprocessing.cpu_count(),\n",
    "    cv=5,\n",
    "    verbose=True\n",
    ")\n",
    "\n",
    "gs.fit(X, y)"
   ]
  },
  {
   "cell_type": "code",
   "execution_count": null,
   "metadata": {
    "id": "O0Zg0sorLqnI"
   },
   "outputs": [],
   "source": [
    "# 11. 다시 최적 찾기\n",
    "gs.best_estimator_"
   ]
  },
  {
   "cell_type": "markdown",
   "metadata": {
    "id": "NKavNYlxN1fB"
   },
   "source": [
    "## Kernel SVC"
   ]
  },
  {
   "cell_type": "markdown",
   "metadata": {
    "id": "M7QkeGrdOAxV"
   },
   "source": [
    "### 유방암"
   ]
  },
  {
   "cell_type": "code",
   "execution_count": null,
   "metadata": {
    "executionInfo": {
     "elapsed": 890,
     "status": "ok",
     "timestamp": 1618049707289,
     "user": {
      "displayName": "seola jo",
      "photoUrl": "",
      "userId": "10916076916023213174"
     },
     "user_tz": -540
    },
    "id": "LtHeKTDjhF24"
   },
   "outputs": [],
   "source": [
    "X, y = load_breast_cancer(return_X_y=True) #데이터 로드\n",
    "X_train, X_test, y_train, y_test = train_test_split(X, y, test_size=0.2)"
   ]
  },
  {
   "cell_type": "code",
   "execution_count": null,
   "metadata": {
    "executionInfo": {
     "elapsed": 880,
     "status": "ok",
     "timestamp": 1618049708668,
     "user": {
      "displayName": "seola jo",
      "photoUrl": "",
      "userId": "10916076916023213174"
     },
     "user_tz": -540
    },
    "id": "UmSGCO2nhIsv"
   },
   "outputs": [],
   "source": [
    "scaler = StandardScaler()\n",
    "scaler.fit(X_train)\n",
    "X_train = scaler.fit_transform(X_train)\n",
    "X_test = scaler.transform(X_test)"
   ]
  },
  {
   "cell_type": "code",
   "execution_count": null,
   "metadata": {
    "colab": {
     "base_uri": "https://localhost:8080/"
    },
    "executionInfo": {
     "elapsed": 926,
     "status": "ok",
     "timestamp": 1618049710142,
     "user": {
      "displayName": "seola jo",
      "photoUrl": "",
      "userId": "10916076916023213174"
     },
     "user_tz": -540
    },
    "id": "Js0bF-5dhMFu",
    "outputId": "0ba2de29-df4d-4310-c2ca-6b9a3e840ac4"
   },
   "outputs": [],
   "source": [
    "model = SVC(kernel='rbf')\n",
    "model.fit(X_train, y_train)"
   ]
  },
  {
   "cell_type": "code",
   "execution_count": null,
   "metadata": {
    "colab": {
     "base_uri": "https://localhost:8080/"
    },
    "executionInfo": {
     "elapsed": 1149,
     "status": "ok",
     "timestamp": 1618049713767,
     "user": {
      "displayName": "seola jo",
      "photoUrl": "",
      "userId": "10916076916023213174"
     },
     "user_tz": -540
    },
    "id": "tqM1jJtQhPTD",
    "outputId": "98397d5a-ff67-403f-c5ff-92697e35db32"
   },
   "outputs": [],
   "source": [
    "print(\"RBF SVR 학습 데이터 점수: {}\".format(model.score(X_train, y_train)))\n",
    "print(\"RBF SVR 평가 데이터 점수: {}\".format(model.score(X_test, y_test)))"
   ]
  },
  {
   "cell_type": "markdown",
   "metadata": {
    "id": "F7cBVDMTPQ4W"
   },
   "source": [
    "* SVR과 달리 SVC는 데이터를 보여준 후 그 바깥에 구분이 되는 부분에 대한 시각화를 위한 코드 추가해주어야 하므로 그에 따른 함수를 추가 작성한다"
   ]
  },
  {
   "cell_type": "code",
   "execution_count": null,
   "metadata": {
    "executionInfo": {
     "elapsed": 1384,
     "status": "ok",
     "timestamp": 1618049837084,
     "user": {
      "displayName": "seola jo",
      "photoUrl": "",
      "userId": "10916076916023213174"
     },
     "user_tz": -540
    },
    "id": "pnbf0GgMm0Bl"
   },
   "outputs": [],
   "source": [
    "    \"\"\"\n",
    "    make_meshgrid(x, y, h=0.2)\n",
    "    --> 매개변수 2개 = 2차원그리드 만드는 메소드\n",
    "\n",
    "    Parameters\n",
    "    ----------\n",
    "    x: data to base x-axis meshgrid on\n",
    "    y: data to base y-axis meshgrid on\n",
    "    h: stepsize for meshgrid, optional(그리드 간격 설정, 필수설정X)\n",
    "\n",
    "    Returns\n",
    "    -------\n",
    "    xx, yy : ndarray\n",
    "    \"\"\"  \n",
    "#시각화\n",
    "#SVR과 달리 추가된 메서드\n",
    "def make_meshgrid(x, y, h=0.2):\n",
    "  x_min, x_max = x.min()-1, x.max()+1\n",
    "  y_min, y_max = y.min()-1, y.max()+1\n",
    "  xx, yy = np.meshgrid(np.arange(x_min, x_max, h),\n",
    "                       np.arange(y_min, y_max, h))\n",
    "  \n",
    "  return xx, yy "
   ]
  },
  {
   "cell_type": "code",
   "execution_count": null,
   "metadata": {
    "executionInfo": {
     "elapsed": 963,
     "status": "ok",
     "timestamp": 1618049851239,
     "user": {
      "displayName": "seola jo",
      "photoUrl": "",
      "userId": "10916076916023213174"
     },
     "user_tz": -540
    },
    "id": "h-5OjkXRm0Br"
   },
   "outputs": [],
   "source": [
    "    \"\"\"\n",
    "    classifier의 결정 경계에 대한 플롯 생성\n",
    "\n",
    "    Parameters\n",
    "    ----------\n",
    "    ax: matplotlib axes object\n",
    "    clf: a classifier\n",
    "    xx: meshgrid ndarray\n",
    "    yy: meshgrid ndarray\n",
    "    params: dictionary of params to pass to contourf, optional\n",
    "    \"\"\" \n",
    "#시각화\n",
    "#SVR과 달리 추가된 메서드\n",
    "def plot_contours(clf, xx, yy, **params):\n",
    "  Z = clf.predict(np.c_[xx.ravel(), yy.ravel()])\n",
    "  Z = Z.reshape(xx.shape)\n",
    "  out = plt.contourf(xx, yy, Z, **params)\n",
    "  #contourf: 채워진 2차원(Filled 2-D) 등고선 플롯\n",
    "  #생성한 격자 행렬 좌표값들에 대해 Classifier의 predict() 메소드로 예측을 하여 contour plot의 높이에 해당하는 Z 값 구함\n",
    "\n",
    "  return out "
   ]
  },
  {
   "cell_type": "markdown",
   "metadata": {
    "id": "rVIahT3ZU7eX"
   },
   "source": [
    "[contourf 설명](https://kr.mathworks.com/help/matlab/ref/contourf.html#responsive_offcanvas)"
   ]
  },
  {
   "cell_type": "code",
   "execution_count": null,
   "metadata": {
    "id": "Lz5Bw7wIhS6q"
   },
   "outputs": [],
   "source": [
    "#SVR과 달리 TSNE의 n_components값을 2로 줌\n",
    "X_comp = TSNE(n_components=2).fit_transform(X)\n",
    "X0, X1 = X_comp[:,0], X_comp[:,1]\n",
    "xx, yy = make_meshgrid(X0, X1)"
   ]
  },
  {
   "cell_type": "code",
   "execution_count": null,
   "metadata": {
    "colab": {
     "base_uri": "https://localhost:8080/",
     "height": 280
    },
    "executionInfo": {
     "elapsed": 1623,
     "status": "ok",
     "timestamp": 1618036203548,
     "user": {
      "displayName": "seola jo",
      "photoUrl": "",
      "userId": "10916076916023213174"
     },
     "user_tz": -540
    },
    "id": "Hg9cHUlnhXfG",
    "outputId": "26cd1a6f-bb71-46b4-fe91-e62ca02c03b6"
   },
   "outputs": [],
   "source": [
    "#SVR과 달라진 부분\n",
    "model.fit(X_comp, y)\n",
    "\n",
    "plot_contours(model,xx, yy, cmap=plt.cm.coolwarm, alpha=0.7)\n",
    "plt.scatter(X0, X1, c=y, cmap=plt.cm.coolwarm, s=20, edgecolors='k')"
   ]
  },
  {
   "cell_type": "code",
   "execution_count": null,
   "metadata": {
    "id": "lBRJHuzThp9Y"
   },
   "outputs": [],
   "source": [
    "estimator = make_pipeline(StandardScaler(), SVC(kernel='rbf'))\n",
    "\n",
    "cross_validate(\n",
    "    estimator = estimator,\n",
    "    X=X, y=y,\n",
    "    cv=5,\n",
    "    n_jobs=multiprocessing.cpu_count(),\n",
    "    verbose=True\n",
    ")"
   ]
  },
  {
   "cell_type": "code",
   "execution_count": null,
   "metadata": {
    "id": "VorKONXah5JG"
   },
   "outputs": [],
   "source": [
    "pipe = Pipeline([('scaler', StandardScaler()),\n",
    "                 ('model', SVC(kernel='rbf'))])\n",
    "\n",
    "param_grid = [{'model__kernel': ['rbf', 'polynomial', 'sigmoid']}]\n",
    "\n",
    "gs = GridSearchCV(\n",
    "    estimator = pipe,\n",
    "    param_grid = param_grid,\n",
    "    n_jobs = multiprocessing.cpu_count(),\n",
    "    cv=5,\n",
    "    verbose=True\n",
    ")\n",
    "\n",
    "gs.fit(X, y)"
   ]
  },
  {
   "cell_type": "code",
   "execution_count": null,
   "metadata": {
    "id": "xqwLlKzSh9Un"
   },
   "outputs": [],
   "source": [
    "gs.best_estimator_"
   ]
  },
  {
   "cell_type": "code",
   "execution_count": null,
   "metadata": {
    "id": "d0Otann9iEOk"
   },
   "outputs": [],
   "source": [
    "pipe = Pipeline([('scaler', StandardScaler()),\n",
    "                 ('model', SVC(kernel='rbf'))])\n",
    "\n",
    "param_grid = [{'model__gamma': ['scale', 'auto'],\n",
    "               'model__C':[1.0, 0.1, 0.01],\n",
    "               'model__epsilon':[1.0, 0.1, 0.01]}]\n",
    "#gamma, C, epsilon을 어떤 값을 취해야 최적일지 param_grid에 추가\n",
    "gs = GridSearchCV(\n",
    "    estimator = pipe,\n",
    "    param_grid = param_grid,\n",
    "    n_jobs = multiprocessing.cpu_count(),\n",
    "    cv=5,\n",
    "    verbose=True\n",
    ")\n",
    "\n",
    "gs.fit(X, y)"
   ]
  },
  {
   "cell_type": "code",
   "execution_count": null,
   "metadata": {
    "id": "zc_xkMfHiI-N"
   },
   "outputs": [],
   "source": [
    "gs.best_estimator_"
   ]
  },
  {
   "cell_type": "markdown",
   "metadata": {
    "id": "8488abTBN-GA"
   },
   "source": [
    "### 붓꽃"
   ]
  },
  {
   "cell_type": "code",
   "execution_count": null,
   "metadata": {
    "id": "fg3w1a2Ce9s1"
   },
   "outputs": [],
   "source": [
    "X, y = load_iris(return_X_y=True)\n",
    "X_train, X_test, y_train, y_test = train_test_split(X, y, test_size=0.2)"
   ]
  },
  {
   "cell_type": "code",
   "execution_count": null,
   "metadata": {
    "id": "-uJ83cBufbZe"
   },
   "outputs": [],
   "source": [
    "scaler = StandardScaler()\n",
    "scaler.fit(X_train)\n",
    "X_train = scaler.fit_transform(X_train)\n",
    "X_test = scaler.transform(X_test)"
   ]
  },
  {
   "cell_type": "code",
   "execution_count": null,
   "metadata": {
    "id": "mFb4DqDIffC8"
   },
   "outputs": [],
   "source": [
    "model = SVR(kernel='rbf')\n",
    "model.fit(X_train, y_train)"
   ]
  },
  {
   "cell_type": "code",
   "execution_count": null,
   "metadata": {
    "id": "Pfd3oSsgfwiC"
   },
   "outputs": [],
   "source": [
    "print(\"RBF SVR 학습 데이터 점수: {}\".format(model.score(X_train, y_train)))\n",
    "print(\"RBF SVR 평가 데이터 점수: {}\".format(model.score(X_test, y_test)))"
   ]
  },
  {
   "cell_type": "code",
   "execution_count": null,
   "metadata": {
    "id": "fRB1BoL9mwIM"
   },
   "outputs": [],
   "source": [
    "X_comp = TSNE(n_components=1).fit_transform(X)\n",
    "plt.scatter(X_comp, y)"
   ]
  },
  {
   "cell_type": "code",
   "execution_count": null,
   "metadata": {
    "id": "PtqfjprKmwIV"
   },
   "outputs": [],
   "source": [
    "model.fit(X_comp, y)\n",
    "predict = model.predict(X_comp)\n",
    "plt.scatter(X_comp, y)\n",
    "plt.scatter(X_comp, predict, color='r')"
   ]
  },
  {
   "cell_type": "code",
   "execution_count": null,
   "metadata": {
    "id": "Bdvv3dd7f0Pz"
   },
   "outputs": [],
   "source": [
    "estimator = make_pipeline(StandardScaler(), SVR(kernel='rbf'))\n",
    "cross_validate(\n",
    "    estimator = estimator,\n",
    "    X=X, y=y,\n",
    "    cv=5,\n",
    "    n_jobs=multiprocessing.cpu_count(),\n",
    "    verbose=True\n",
    ")"
   ]
  },
  {
   "cell_type": "code",
   "execution_count": null,
   "metadata": {
    "id": "Jcnn2tQafz3T"
   },
   "outputs": [],
   "source": [
    "pipe = Pipeline([('scaler', StandardScaler()),\n",
    "                 ('model', SVR(kernel='rbf'))])\n",
    "\n",
    "param_grid = [{'model__kernel': ['rbf', 'polynomial', 'sigmoid']}]\n",
    "\n",
    "gs = GridSearchCV(\n",
    "    estimator = pipe,\n",
    "    param_grid = param_grid,\n",
    "    n_jobs = multiprocessing.cpu_count(),\n",
    "    cv=5,\n",
    "    verbose=True\n",
    ")\n",
    "\n",
    "gs.fit(X, y)"
   ]
  },
  {
   "cell_type": "code",
   "execution_count": null,
   "metadata": {
    "id": "C_lEM81BgIXJ"
   },
   "outputs": [],
   "source": [
    "gs.best_estimator_"
   ]
  },
  {
   "cell_type": "code",
   "execution_count": null,
   "metadata": {
    "id": "VI6PeNGTgJKt"
   },
   "outputs": [],
   "source": [
    "pipe = Pipeline([('scaler', StandardScaler()),\n",
    "                 ('model', SVR(kernel='rbf'))])\n",
    "\n",
    "param_grid = [{'model__gamma': ['scale', 'auto'],\n",
    "               'model__C':[1.0, 0.1, 0.01],\n",
    "               'model__epsilon':[1.0, 0.1, 0.01]}]\n",
    "#gamma, C, epsilon을 어떤 값을 취해야 최적일지 param_grid에 추가\n",
    "gs = GridSearchCV(\n",
    "    estimator = pipe,\n",
    "    param_grid = param_grid,\n",
    "    n_jobs = multiprocessing.cpu_count(),\n",
    "    cv=5,\n",
    "    verbose=True\n",
    ")\n",
    "\n",
    "gs.fit(X, y)"
   ]
  },
  {
   "cell_type": "code",
   "execution_count": null,
   "metadata": {
    "id": "6UddLcxVgP_W"
   },
   "outputs": [],
   "source": [
    "gs.best_estimator_"
   ]
  },
  {
   "cell_type": "code",
   "execution_count": null,
   "metadata": {
    "id": "xMn78snqgSYl"
   },
   "outputs": [],
   "source": []
  },
  {
   "cell_type": "code",
   "execution_count": null,
   "metadata": {
    "id": "74TPmmARf8Zz"
   },
   "outputs": [],
   "source": []
  },
  {
   "cell_type": "code",
   "execution_count": null,
   "metadata": {
    "id": "cT4UBZgmf8Gm"
   },
   "outputs": [],
   "source": []
  },
  {
   "cell_type": "code",
   "execution_count": null,
   "metadata": {
    "id": "qdjv70fpf7z9"
   },
   "outputs": [],
   "source": []
  },
  {
   "cell_type": "code",
   "execution_count": null,
   "metadata": {
    "id": "FqC2JZXbf7aF"
   },
   "outputs": [],
   "source": []
  }
 ],
 "metadata": {
  "colab": {
   "collapsed_sections": [],
   "name": "DALC서포트 벡터 머신(Support Vector Machines).ipynb",
   "provenance": [
    {
     "file_id": "1tTbmeS0Bp0_NkFDsT1DvwvnRjkZUY9Yz",
     "timestamp": 1617979176624
    }
   ],
   "toc_visible": true
  },
  "kernelspec": {
   "display_name": "Python 3",
   "language": "python",
   "name": "python3"
  },
  "language_info": {
   "codemirror_mode": {
    "name": "ipython",
    "version": 3
   },
   "file_extension": ".py",
   "mimetype": "text/x-python",
   "name": "python",
   "nbconvert_exporter": "python",
   "pygments_lexer": "ipython3",
   "version": "3.6.5"
  }
 },
 "nbformat": 4,
 "nbformat_minor": 1
}
